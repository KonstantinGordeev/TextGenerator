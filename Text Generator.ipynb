{
 "cells": [
  {
   "cell_type": "code",
   "execution_count": 19,
   "metadata": {},
   "outputs": [],
   "source": [
    "import random, re\n",
    "\n",
    "class LanguageModel(object):\n",
    "    \"\"\"The class of text prediction model\"\"\"\n",
    "\n",
    "    def __init__(self):\n",
    "        \"\"\"Constructor\"\"\"\n",
    "        self.nextWord = {}\n",
    "        \n",
    "    def fit(self, file):\n",
    "        \"\"\"The model training\"\"\"\n",
    "        \n",
    "        lastWord = ''\n",
    "        while True:\n",
    "            line = file.readline().lower()\n",
    "            if not line:\n",
    "                break\n",
    "            \n",
    "            # без использования библиотеки re (требуется добавить replace остальных небуквенных символов)\n",
    "            #line = line.replace(\"\\n\", \"\").replace(\".\", \"\").replace(\",\", \"\").replace(\"-\", \"\").split(\" \")\n",
    "            \n",
    "            reg = re.compile('[^a-zA-Z ]')\n",
    "            line = reg.sub('', line).split(\" \")\n",
    "            if (lastWord != ''):\n",
    "                if (self.nextWord.get(lastWord) == None):\n",
    "                    self.nextWord[lastWord] = [line[0]]\n",
    "                else:\n",
    "                    self.nextWord[lastWord].append(line[0])\n",
    "            for i in range(len(line)-1):\n",
    "                if (self.nextWord.get(line[i]) == None):\n",
    "                    self.nextWord[line[i]] = [line[i+1]]\n",
    "                else:\n",
    "                    self.nextWord[line[i]].append(line[i+1])\n",
    "            lastWord = line[-1]\n",
    "        file.close()\n",
    "    \n",
    "    def generate(self, k = 10, sid = 1):\n",
    "        \"\"\"Generating a text\"\"\"\n",
    "        words = list(self.nextWord.keys())\n",
    "        nextw = words[int(sid) % len(words)]\n",
    "        result = nextw\n",
    "        count = 0\n",
    "        for i in range(k):\n",
    "            \n",
    "            # без использования библиотеки random (по одному сиду всегда будет генерироваться одинаковый текст, но не будет зацикленных фраз)\n",
    "            nextw = self.nextWord[nextw][count % len(self.nextWord[nextw])]\n",
    "            count += 1\n",
    "            #nextw = random.choice(self.nextWord[nextw])\n",
    "            \n",
    "            result += ' ' + nextw\n",
    "        result = result.capitalize() + '.'\n",
    "        \n",
    "        file = open('generated_text.txt', 'w')\n",
    "        file.write(result)\n",
    "        file.close()"
   ]
  },
  {
   "cell_type": "code",
   "execution_count": 20,
   "metadata": {},
   "outputs": [
    {
     "name": "stdout",
     "output_type": "stream",
     "text": [
      "Generate integer sid: 1\n"
     ]
    }
   ],
   "source": [
    "model = LanguageModel()\n",
    "\n",
    "# ввод названия файла для обучения из командной строки\n",
    "#file = 0\n",
    "#while (file == 0):\n",
    "#    name = input(\"Input file name: \")\n",
    "#    try:\n",
    "#        file = open(name)\n",
    "#    except FileNotFoundError:\n",
    "#        print('Wrong name, put the file in the program folder')\n",
    "file = open('text.txt')\n",
    "model.fit(file)\n",
    "\n",
    "sid = input(\"Generate integer sid: \")\n",
    "model.generate(sid = sid)"
   ]
  },
  {
   "cell_type": "code",
   "execution_count": null,
   "metadata": {},
   "outputs": [],
   "source": []
  }
 ],
 "metadata": {
  "kernelspec": {
   "display_name": "Python 3",
   "language": "python",
   "name": "python3"
  },
  "language_info": {
   "codemirror_mode": {
    "name": "ipython",
    "version": 3
   },
   "file_extension": ".py",
   "mimetype": "text/x-python",
   "name": "python",
   "nbconvert_exporter": "python",
   "pygments_lexer": "ipython3",
   "version": "3.8.3"
  }
 },
 "nbformat": 4,
 "nbformat_minor": 4
}
